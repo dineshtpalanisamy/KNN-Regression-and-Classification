{
 "cells": [
  {
   "cell_type": "code",
   "execution_count": 1,
   "id": "1e976e39",
   "metadata": {},
   "outputs": [],
   "source": [
    "import numpy as np\n",
    "from math import sqrt\n",
    "import matplotlib.pyplot as plt\n",
    "import warnings\n",
    "from matplotlib import style\n",
    "from collections import Counter\n",
    "style.use('fivethirtyeight')\n",
    "import pandas as pd\n",
    "import random"
   ]
  },
  {
   "cell_type": "code",
   "execution_count": 2,
   "id": "00f40c6c",
   "metadata": {},
   "outputs": [],
   "source": [
    "def k_nearest_neighbors(data, predict, k=3):\n",
    "    if len(data) >=k:\n",
    "        warnings.warn(' k is lesser than the class labels you idiot')\n",
    "        \n",
    "    # special knn algos\n",
    "    #knnalgos\n",
    "    # we need to find out distance betwween each data point find out who is the closest data point to this we need compare predictioon with all other data points\n",
    "    #  radius look with a certain radius reduces calculation time by looking inside the radius and outside the radius\n",
    "    distances = []\n",
    "    for group in data:\n",
    "        for features in data[group]:\n",
    "            \n",
    "            #euclidean_distance = sqrt((plot1[0]-plot2[0])**2 + (plot1[1]-plot2[1])**2)\n",
    "            euclidean_distance =  np.linalg.norm(np.array(features)-np.array(predict))\n",
    "            distances.append([euclidean_distance, group])# first item inthe list is distance second is group so that we can sort\n",
    "    votes = [i[1] for i in sorted(distances) [:k] ]\n",
    "    #print(Counter(votes).most_common(1))\n",
    "    vote_result = Counter(votes).most_common(1)[0][0]\n",
    "    confidence = Counter(votes).most_common(1)[0][1] /k\n",
    "    \n",
    "    #print(vote_result, confidence)\n",
    "    return vote_result, confidence\n",
    "    \n",
    "        \n",
    "        "
   ]
  },
  {
   "cell_type": "code",
   "execution_count": 3,
   "id": "a7ed9301",
   "metadata": {},
   "outputs": [],
   "source": [
    "accuracies = []"
   ]
  },
  {
   "cell_type": "code",
   "execution_count": 4,
   "id": "87b41083",
   "metadata": {},
   "outputs": [],
   "source": [
    "for i in range(5):\n",
    "    df = pd.read_csv('C:/Users/HOME/Desktop/machine learning/classification/breat_cancer/breast-cancer-wisconsin_data.csv')\n",
    "    df.replace('?', -99999, inplace = True)\n",
    "    df.drop(['id'], 1, inplace= True) \n",
    "\n",
    "    full_data = df.astype(float).values.tolist()\n",
    "\n",
    "    #print(full_data[:10])  checking whether shuffled or not\n",
    "    random.shuffle(full_data)\n",
    "    #print(20*'#')\n",
    "    #print(full_data[:5])\n"
   ]
  },
  {
   "cell_type": "code",
   "execution_count": 5,
   "id": "a079174e",
   "metadata": {},
   "outputs": [],
   "source": [
    "    test_size = 0.2\n",
    "    train_set ={2:[], 4:[]}\n",
    "\n",
    "    test_set ={2:[], 4:[]}\n",
    "\n",
    "\n",
    "    train_data = full_data[:-int(test_size*len(full_data))]\n",
    "\n",
    "    test_data = full_data[-int(test_size*len(full_data)):]\n"
   ]
  },
  {
   "cell_type": "code",
   "execution_count": 6,
   "id": "6e84b344",
   "metadata": {},
   "outputs": [],
   "source": [
    "# populating or  adding to the dictionaries"
   ]
  },
  {
   "cell_type": "code",
   "execution_count": 7,
   "id": "adb3c21b",
   "metadata": {},
   "outputs": [],
   "source": [
    "    for i in train_data:\n",
    "        train_set[i[-1]].append(i[:-1])        # -1 because our last item is the class inorder to access the class"
   ]
  },
  {
   "cell_type": "code",
   "execution_count": 8,
   "id": "8d8753f6",
   "metadata": {},
   "outputs": [],
   "source": [
    "    for i in test_data:\n",
    "        test_set[i[-1]].append(i[:-1]) "
   ]
  },
  {
   "cell_type": "code",
   "execution_count": 9,
   "id": "2ee5ef49",
   "metadata": {},
   "outputs": [],
   "source": [
    "    correct = 0\n",
    "    total = 0\n"
   ]
  },
  {
   "cell_type": "code",
   "execution_count": 10,
   "id": "d30e5e18",
   "metadata": {},
   "outputs": [],
   "source": [
    "# pass the info to knerarest neigbhiors"
   ]
  },
  {
   "cell_type": "code",
   "execution_count": 11,
   "id": "584a289a",
   "metadata": {
    "scrolled": false
   },
   "outputs": [
    {
     "name": "stdout",
     "output_type": "stream",
     "text": [
      "1.0\n",
      "0.6\n",
      "Accuracy: 0.9856115107913669\n"
     ]
    }
   ],
   "source": [
    "    for group in test_set:\n",
    "        for data in test_set[group]:\n",
    "            vote, confidence = k_nearest_neighbors(train_set, data, k=5)\n",
    "            if group == vote:\n",
    "                correct += 1\n",
    "            else:\n",
    "                print(confidence)# prints confidence values which are not 100 % sure\n",
    "            total += 1  \n",
    "    print('Accuracy:', correct/total)        \n"
   ]
  },
  {
   "cell_type": "code",
   "execution_count": 12,
   "id": "1a7885cb",
   "metadata": {},
   "outputs": [],
   "source": [
    "# confidence vs accuracy\n",
    "\n",
    "#confidence comes from classifier"
   ]
  },
  {
   "cell_type": "code",
   "execution_count": 13,
   "id": "93d36d3f",
   "metadata": {},
   "outputs": [],
   "source": [
    "    accuracies.append( correct/total)"
   ]
  },
  {
   "cell_type": "code",
   "execution_count": 15,
   "id": "8616bd8e",
   "metadata": {},
   "outputs": [
    {
     "name": "stdout",
     "output_type": "stream",
     "text": [
      "0.9856115107913669\n"
     ]
    }
   ],
   "source": [
    "print(sum(accuracies)/len(accuracies))"
   ]
  },
  {
   "cell_type": "code",
   "execution_count": null,
   "id": "c9aa4491",
   "metadata": {},
   "outputs": [],
   "source": []
  },
  {
   "cell_type": "code",
   "execution_count": null,
   "id": "c7d40dc6",
   "metadata": {},
   "outputs": [],
   "source": []
  },
  {
   "cell_type": "code",
   "execution_count": null,
   "id": "133ed24b",
   "metadata": {},
   "outputs": [],
   "source": []
  },
  {
   "cell_type": "code",
   "execution_count": null,
   "id": "9476f89e",
   "metadata": {},
   "outputs": [],
   "source": []
  },
  {
   "cell_type": "code",
   "execution_count": null,
   "id": "ea12e4b1",
   "metadata": {},
   "outputs": [],
   "source": []
  },
  {
   "cell_type": "code",
   "execution_count": null,
   "id": "4b63aa43",
   "metadata": {},
   "outputs": [],
   "source": []
  }
 ],
 "metadata": {
  "kernelspec": {
   "display_name": "Python 3 (ipykernel)",
   "language": "python",
   "name": "python3"
  },
  "language_info": {
   "codemirror_mode": {
    "name": "ipython",
    "version": 3
   },
   "file_extension": ".py",
   "mimetype": "text/x-python",
   "name": "python",
   "nbconvert_exporter": "python",
   "pygments_lexer": "ipython3",
   "version": "3.8.8"
  }
 },
 "nbformat": 4,
 "nbformat_minor": 5
}
